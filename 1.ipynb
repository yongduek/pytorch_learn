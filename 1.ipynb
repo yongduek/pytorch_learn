{
 "cells": [
  {
   "cell_type": "code",
   "execution_count": 1,
   "metadata": {},
   "outputs": [],
   "source": [
    "import numpy as np\n",
    "import torch\n",
    "from matplotlib import pyplot as plt"
   ]
  },
  {
   "cell_type": "code",
   "execution_count": 2,
   "metadata": {},
   "outputs": [
    {
     "data": {
      "text/plain": [
       "(Parameter containing:\n",
       " tensor([[-0.8086]], requires_grad=True), Parameter containing:\n",
       " tensor([-0.0580], requires_grad=True))"
      ]
     },
     "execution_count": 2,
     "metadata": {},
     "output_type": "execute_result"
    }
   ],
   "source": [
    "model = torch.nn.Linear (in_features=1, out_features=1)#, bias=True)\n",
    "model.weight, model.bias"
   ]
  },
  {
   "cell_type": "code",
   "execution_count": 3,
   "metadata": {},
   "outputs": [],
   "source": [
    "loss = torch.nn.MSELoss ()"
   ]
  },
  {
   "cell_type": "code",
   "execution_count": 4,
   "metadata": {},
   "outputs": [],
   "source": [
    "optimizer = torch.optim.SGD(model.parameters(), lr = 0.01)"
   ]
  },
  {
   "cell_type": "code",
   "execution_count": 115,
   "metadata": {},
   "outputs": [],
   "source": [
    "ndata = 100\n",
    "x = np.random.rand(ndata,1).astype(np.float32)\n",
    "y = 3 * x + 5 + np.random.randn(ndata,1).astype(np.float32)*0.5"
   ]
  },
  {
   "cell_type": "code",
   "execution_count": 116,
   "metadata": {},
   "outputs": [
    {
     "name": "stdout",
     "output_type": "stream",
     "text": [
      "(100, 1) (100, 1)\n"
     ]
    },
    {
     "data": {
      "text/plain": [
       "<matplotlib.collections.PathCollection at 0x7f7e0c5117f0>"
      ]
     },
     "execution_count": 116,
     "metadata": {},
     "output_type": "execute_result"
    },
    {
     "data": {
      "image/png": "[encoded data removed]",
      "text/plain": [
       "<Figure size 432x288 with 1 Axes>"
      ]
     },
     "metadata": {},
     "output_type": "display_data"
    }
   ],
   "source": [
    "print (y.shape, x.shape); \n",
    "plt.scatter (x, y)"
   ]
  },
  {
   "cell_type": "code",
   "execution_count": 117,
   "metadata": {},
   "outputs": [],
   "source": [
    "from torch.utils.data import Dataset, DataLoader\n",
    "class myDataSet (Dataset):\n",
    "    def __init__ (self, x, y):\n",
    "        self.x = x\n",
    "        self.y = y\n",
    "        self.size = x.shape[0]\n",
    "    def __len__ (self): \n",
    "        return self.size\n",
    "    def __getitem__ (self, idx):\n",
    "        return x[idx], y[idx]"
   ]
  },
  {
   "cell_type": "code",
   "execution_count": 118,
   "metadata": {},
   "outputs": [],
   "source": [
    "data = myDataSet (x, y)"
   ]
  },
  {
   "cell_type": "code",
   "execution_count": 119,
   "metadata": {},
   "outputs": [
    {
     "name": "stdout",
     "output_type": "stream",
     "text": [
      "0 [0.35491827] [7.1995616]\n",
      "1 [0.71792245] [7.08749]\n",
      "2 [0.49378633] [6.8478174]\n",
      "3 [0.43260458] [6.1391206]\n",
      "4 [0.6897085] [6.2114835]\n",
      "5 [0.5607634] [6.5579333]\n",
      "6 [0.5394859] [7.0659924]\n"
     ]
    }
   ],
   "source": [
    "for i, (xx, yy) in enumerate(data):\n",
    "    print (i, xx, yy)\n",
    "    if i>5: break"
   ]
  },
  {
   "cell_type": "code",
   "execution_count": 120,
   "metadata": {},
   "outputs": [
    {
     "data": {
      "text/plain": [
       "[tensor([[0.3549],\n",
       "         [0.7179],\n",
       "         [0.4938],\n",
       "         [0.4326],\n",
       "         [0.6897],\n",
       "         [0.5608],\n",
       "         [0.5395],\n",
       "         [0.1790],\n",
       "         [0.1432],\n",
       "         [0.1973]]), tensor([[7.1996],\n",
       "         [7.0875],\n",
       "         [6.8478],\n",
       "         [6.1391],\n",
       "         [6.2115],\n",
       "         [6.5579],\n",
       "         [7.0660],\n",
       "         [6.0644],\n",
       "         [5.7100],\n",
       "         [5.9277]])]"
      ]
     },
     "execution_count": 120,
     "metadata": {},
     "output_type": "execute_result"
    }
   ],
   "source": [
    "myDataLoader = DataLoader (data, batch_size=10)\n",
    "next(iter(myDataLoader))"
   ]
  },
  {
   "cell_type": "code",
   "execution_count": 124,
   "metadata": {},
   "outputs": [
    {
     "name": "stdout",
     "output_type": "stream",
     "text": [
      "10 2.23e-02 2.925825357437134 tensor([5.0305])\n",
      "20 2.23e-02 2.925825357437134 tensor([5.0305])\n",
      "30 2.23e-02 2.925825357437134 tensor([5.0305])\n",
      "40 2.23e-02 2.925825357437134 tensor([5.0305])\n",
      "50 2.23e-02 2.925825357437134 tensor([5.0305])\n",
      "60 2.23e-02 2.925825357437134 tensor([5.0305])\n",
      "70 2.23e-02 2.925825357437134 tensor([5.0305])\n",
      "80 2.23e-02 2.925825357437134 tensor([5.0305])\n",
      "90 2.23e-02 2.925825357437134 tensor([5.0305])\n",
      "100 2.23e-02 2.925825357437134 tensor([5.0305])\n",
      "110 2.23e-02 2.925825357437134 tensor([5.0305])\n",
      "120 2.23e-02 2.925825357437134 tensor([5.0305])\n",
      "130 2.23e-02 2.925825357437134 tensor([5.0305])\n",
      "140 2.23e-02 2.925825357437134 tensor([5.0305])\n",
      "150 2.23e-02 2.925825357437134 tensor([5.0305])\n",
      "160 2.23e-02 2.925825357437134 tensor([5.0305])\n",
      "170 2.23e-02 2.925825357437134 tensor([5.0305])\n",
      "180 2.23e-02 2.925825357437134 tensor([5.0305])\n",
      "190 2.23e-02 2.925825357437134 tensor([5.0305])\n",
      "200 2.23e-02 2.925825357437134 tensor([5.0305])\n",
      "210 2.23e-02 2.925825357437134 tensor([5.0305])\n",
      "220 2.23e-02 2.925825357437134 tensor([5.0305])\n",
      "230 2.23e-02 2.925825357437134 tensor([5.0305])\n",
      "240 2.23e-02 2.925825357437134 tensor([5.0305])\n",
      "250 2.23e-02 2.925825357437134 tensor([5.0305])\n",
      "260 2.23e-02 2.925825357437134 tensor([5.0305])\n",
      "270 2.23e-02 2.925825357437134 tensor([5.0305])\n",
      "280 2.23e-02 2.925825357437134 tensor([5.0305])\n",
      "290 2.23e-02 2.925825357437134 tensor([5.0305])\n",
      "300 2.23e-02 2.925825357437134 tensor([5.0305])\n"
     ]
    }
   ],
   "source": [
    "#def fit (model, loss_ft, optim, nepochs=10):\n",
    "nepochs = 300\n",
    "for epoch in range (1,nepochs+1):\n",
    "    e = 0.\n",
    "    for i, data in enumerate(myDataLoader):\n",
    "        inp, outp = data\n",
    "\n",
    "        optimizer.zero_grad ()\n",
    "        \n",
    "        outpred = model (inp)\n",
    "        err = loss (outpred, outp)\n",
    "        \n",
    "        err.backward ()\n",
    "        e += err.item()\n",
    "        optimizer.step ()\n",
    "    #\n",
    "    e /= ndata\n",
    "    if epoch % 10 == 0:\n",
    "        print (epoch, '{:.2e}'.format(e), model.weight.data.item(), model.bias.data)"
   ]
  },
  {
   "cell_type": "code",
   "execution_count": null,
   "metadata": {},
   "outputs": [],
   "source": []
  }
 ],
 "metadata": {
  "kernelspec": {
   "display_name": "Python 3",
   "language": "python",
   "name": "python3"
  },
  "language_info": {
   "codemirror_mode": {
    "name": "ipython",
    "version": 3
   },
   "file_extension": ".py",
   "mimetype": "text/x-python",
   "name": "python",
   "nbconvert_exporter": "python",
   "pygments_lexer": "ipython3",
   "version": "3.6.5"
  }
 },
 "nbformat": 4,
 "nbformat_minor": 2
}
